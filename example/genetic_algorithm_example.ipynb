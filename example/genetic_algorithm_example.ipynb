{
 "cells": [
  {
   "cell_type": "code",
   "execution_count": 1,
   "metadata": {},
   "outputs": [],
   "source": [
    "import sys\n",
    "sys.path.append('/Users/wuboyu/Desktop/auto_strategy')\n",
    "import pandas as pd\n",
    "import numpy as np\n",
    "from sklearn.model_selection import train_test_split\n",
    "from core.auto_strategy import GreedyStrategy\n",
    "import geatpy as ea\n",
    "from collections import OrderedDict"
   ]
  },
  {
   "cell_type": "markdown",
   "metadata": {},
   "source": [
    "# 1.数据准备"
   ]
  },
  {
   "cell_type": "code",
   "execution_count": 2,
   "metadata": {},
   "outputs": [],
   "source": [
    "# 数据集\n",
    "df = pd.read_csv('../data/data.csv')\n",
    "\n",
    "# 目标变量\n",
    "target = 'Creditability'\n",
    "\n",
    "# 切分train和test\n",
    "df_train, df_test = train_test_split(df, train_size=0.7, random_state=2020, stratify=df[target])\n",
    "\n",
    "var_dict = {'AccountBalance': 1,\n",
    "            'CreditAmount': 0,\n",
    "            'Duration': 0,\n",
    "            'PaymentStatusofPreviousCredit': 1,\n",
    "            'ValueSavings': 1,\n",
    "            'Purpose': 0,\n",
    "            'Lengthofcurrentemployment': 1,\n",
    "            'Age': 1,\n",
    "            'Mostvaluableavailableasset': 0,\n",
    "            'Typeofapartment': 1,\n",
    "            'ConcurrentCredits': 1,\n",
    "            'SexMaritalStatus': 1}\n",
    "# 目标通过率\n",
    "expected_pass_rate = 0.5"
   ]
  },
  {
   "cell_type": "markdown",
   "metadata": {},
   "source": [
    "# 2.根据目标通过率确定单变量的阈值范围"
   ]
  },
  {
   "cell_type": "code",
   "execution_count": 3,
   "metadata": {},
   "outputs": [
    {
     "name": "stdout",
     "output_type": "stream",
     "text": [
      "CreditAmount 0.5\n",
      "Age 0.4857142857142857\n",
      "AccountBalance 0.4714285714285714\n",
      "Duration 0.4714285714285714\n",
      "ValueSavings 0.336734693877551\n",
      "PaymentStatusofPreviousCredit 0.3346938775510204\n",
      "Lengthofcurrentemployment 0.2714285714285714\n",
      "Purpose 0.20204081632653062\n"
     ]
    }
   ],
   "source": [
    "gs = GreedyStrategy(df_train, target, var_dict, expected_pass_rate, show=False)\n",
    "ordered_var = gs.get_ordered_var_by_pass_rate(current_pass_rate=expected_pass_rate, used_var_dict=None,\n",
    "                                              cached_y_pred=None)\n",
    "\n",
    "lb = []\n",
    "ub = []\n",
    "for var, [search_domain, recall] in ordered_var:\n",
    "    lb.append(min(search_domain))\n",
    "    ub.append(max(search_domain))\n",
    "    print(var, recall)"
   ]
  },
  {
   "cell_type": "markdown",
   "metadata": {},
   "source": [
    "# 3.遗传算法确定最优阈值"
   ]
  },
  {
   "cell_type": "code",
   "execution_count": 4,
   "metadata": {},
   "outputs": [
    {
     "name": "stdout",
     "output_type": "stream",
     "text": [
      "==================================================================================\n",
      "gen|  eval  |    f_opt    |    f_max    |    f_avg    |    f_min    |    f_std    \n",
      "----------------------------------------------------------------------------------\n",
      " 7 |  800   | 4.61224E-01 | 4.61224E-01 | 4.61224E-01 | 4.61224E-01 | 0.00000E+00 \n",
      " 8 |  900   | 4.95918E-01 | 4.95918E-01 | 4.58017E-01 | 3.85714E-01 | 3.17450E-02 \n",
      " 9 |  1000  | 5.69388E-01 | 5.69388E-01 | 4.58791E-01 | 3.55102E-01 | 5.10456E-02 \n",
      " 10|  1100  | 5.75510E-01 | 5.75510E-01 | 4.46269E-01 | 2.20408E-01 | 6.23367E-02 \n",
      " 11|  1200  | 5.75510E-01 | 5.75510E-01 | 4.71551E-01 | 3.97959E-01 | 3.84669E-02 \n",
      " 12|  1300  | 5.75510E-01 | 5.75510E-01 | 4.94796E-01 | 4.61224E-01 | 3.62661E-02 \n",
      " 13|  1400  | 5.79592E-01 | 5.79592E-01 | 5.16857E-01 | 4.75510E-01 | 3.68836E-02 \n",
      " 14|  1500  | 5.81633E-01 | 5.81633E-01 | 5.42673E-01 | 4.95918E-01 | 3.28376E-02 \n",
      " 15|  1600  | 5.81633E-01 | 5.81633E-01 | 5.69653E-01 | 5.63265E-01 | 4.52357E-03 \n",
      " 16|  1700  | 5.81633E-01 | 5.81633E-01 | 5.73347E-01 | 5.69388E-01 | 2.95489E-03 \n",
      " 17|  1800  | 5.95918E-01 | 5.95918E-01 | 5.76184E-01 | 5.73469E-01 | 2.73888E-03 \n",
      " 18|  1900  | 5.95918E-01 | 5.95918E-01 | 5.78265E-01 | 5.75510E-01 | 4.67498E-03 \n",
      " 19|  2000  | 5.95918E-01 | 5.95918E-01 | 5.81286E-01 | 5.75510E-01 | 5.44600E-03 \n",
      " 20|  2100  | 5.95918E-01 | 5.95918E-01 | 5.85673E-01 | 5.79592E-01 | 6.79307E-03 \n",
      " 21|  2200  | 6.00000E-01 | 6.00000E-01 | 5.91612E-01 | 5.81633E-01 | 6.16918E-03 \n",
      " 22|  2300  | 6.00000E-01 | 6.00000E-01 | 5.96082E-01 | 5.95918E-01 | 7.99833E-04 \n",
      " 23|  2400  | 6.04082E-01 | 6.04082E-01 | 5.96429E-01 | 5.95918E-01 | 1.45386E-03 \n",
      " 24|  2500  | 6.04082E-01 | 6.04082E-01 | 5.97306E-01 | 5.95918E-01 | 2.05870E-03 \n",
      " 25|  2600  | 6.04082E-01 | 6.04082E-01 | 5.99224E-01 | 5.95918E-01 | 2.21276E-03 \n",
      " 26|  2700  | 6.04082E-01 | 6.04082E-01 | 6.00939E-01 | 6.00000E-01 | 1.69326E-03 \n",
      " 27|  2800  | 6.04082E-01 | 6.04082E-01 | 6.02224E-01 | 6.00000E-01 | 1.98064E-03 \n",
      " 28|  2900  | 6.06122E-01 | 6.06122E-01 | 6.04102E-01 | 6.04082E-01 | 2.03059E-04 \n",
      " 29|  3000  | 6.06122E-01 | 6.06122E-01 | 6.04102E-01 | 6.04082E-01 | 2.03059E-04 \n",
      " 30|  3100  | 6.06122E-01 | 6.06122E-01 | 6.04163E-01 | 6.04082E-01 | 3.99917E-04 \n",
      " 31|  3200  | 6.06122E-01 | 6.06122E-01 | 6.04286E-01 | 6.04082E-01 | 6.12245E-04 \n",
      " 32|  3300  | 6.06122E-01 | 6.06122E-01 | 6.04571E-01 | 6.04082E-01 | 8.71598E-04 \n",
      " 33|  3400  | 6.06122E-01 | 6.06122E-01 | 6.05082E-01 | 6.04082E-01 | 1.02020E-03 \n",
      " 34|  3500  | 6.06122E-01 | 6.06122E-01 | 6.06122E-01 | 6.06122E-01 | 0.00000E+00 \n",
      " 35|  3600  | 6.06122E-01 | 6.06122E-01 | 6.06122E-01 | 6.06122E-01 | 0.00000E+00 \n",
      " 36|  3700  | 6.06122E-01 | 6.06122E-01 | 6.06122E-01 | 6.06122E-01 | 0.00000E+00 \n",
      " 37|  3800  | 6.06122E-01 | 6.06122E-01 | 6.06122E-01 | 6.06122E-01 | 0.00000E+00 \n",
      " 38|  3900  | 6.06122E-01 | 6.06122E-01 | 6.06122E-01 | 6.06122E-01 | 0.00000E+00 \n",
      " 39|  4000  | 6.06122E-01 | 6.06122E-01 | 6.06122E-01 | 6.06122E-01 | 0.00000E+00 \n",
      " 40|  4100  | 6.06122E-01 | 6.06122E-01 | 6.06122E-01 | 6.06122E-01 | 0.00000E+00 \n",
      " 41|  4200  | 6.06122E-01 | 6.06122E-01 | 6.06122E-01 | 6.06122E-01 | 0.00000E+00 \n",
      " 42|  4300  | 6.06122E-01 | 6.06122E-01 | 6.06122E-01 | 6.06122E-01 | 0.00000E+00 \n",
      " 43|  4400  | 6.06122E-01 | 6.06122E-01 | 6.06122E-01 | 6.06122E-01 | 0.00000E+00 \n",
      " 44|  4500  | 6.06122E-01 | 6.06122E-01 | 6.06122E-01 | 6.06122E-01 | 0.00000E+00 \n",
      " 45|  4600  | 6.06122E-01 | 6.06122E-01 | 6.06122E-01 | 6.06122E-01 | 0.00000E+00 \n",
      " 46|  4700  | 6.06122E-01 | 6.06122E-01 | 6.06122E-01 | 6.06122E-01 | 0.00000E+00 \n",
      " 47|  4800  | 6.06122E-01 | 6.06122E-01 | 6.06122E-01 | 6.06122E-01 | 0.00000E+00 \n",
      " 48|  4900  | 6.06122E-01 | 6.06122E-01 | 6.06122E-01 | 6.06122E-01 | 0.00000E+00 \n",
      " 49|  5000  | 6.06122E-01 | 6.06122E-01 | 6.06122E-01 | 6.06122E-01 | 0.00000E+00 \n",
      " 50|  5100  | 6.06122E-01 | 6.06122E-01 | 6.06122E-01 | 6.06122E-01 | 0.00000E+00 \n",
      " 51|  5200  | 6.06122E-01 | 6.06122E-01 | 6.06122E-01 | 6.06122E-01 | 0.00000E+00 \n",
      " 52|  5300  | 6.06122E-01 | 6.06122E-01 | 6.06122E-01 | 6.06122E-01 | 0.00000E+00 \n",
      " 53|  5400  | 6.06122E-01 | 6.06122E-01 | 6.06122E-01 | 6.06122E-01 | 0.00000E+00 \n",
      " 54|  5500  | 6.06122E-01 | 6.06122E-01 | 6.06122E-01 | 6.06122E-01 | 0.00000E+00 \n",
      " 55|  5600  | 6.06122E-01 | 6.06122E-01 | 6.06122E-01 | 6.06122E-01 | 0.00000E+00 \n",
      " 56|  5700  | 6.06122E-01 | 6.06122E-01 | 6.06122E-01 | 6.06122E-01 | 0.00000E+00 \n",
      " 57|  5800  | 6.06122E-01 | 6.06122E-01 | 6.06122E-01 | 6.06122E-01 | 0.00000E+00 \n",
      " 58|  5900  | 6.06122E-01 | 6.06122E-01 | 6.06122E-01 | 6.06122E-01 | 0.00000E+00 \n",
      " 59|  6000  | 6.06122E-01 | 6.06122E-01 | 6.06122E-01 | 6.06122E-01 | 0.00000E+00 \n",
      " 60|  6100  | 6.06122E-01 | 6.06122E-01 | 6.06122E-01 | 6.06122E-01 | 0.00000E+00 \n",
      " 61|  6200  | 6.06122E-01 | 6.06122E-01 | 6.06122E-01 | 6.06122E-01 | 0.00000E+00 \n",
      " 62|  6300  | 6.06122E-01 | 6.06122E-01 | 6.06122E-01 | 6.06122E-01 | 0.00000E+00 \n",
      " 63|  6400  | 6.06122E-01 | 6.06122E-01 | 6.06122E-01 | 6.06122E-01 | 0.00000E+00 \n",
      " 64|  6500  | 6.06122E-01 | 6.06122E-01 | 6.06122E-01 | 6.06122E-01 | 0.00000E+00 \n",
      " 65|  6600  | 6.06122E-01 | 6.06122E-01 | 6.06122E-01 | 6.06122E-01 | 0.00000E+00 \n",
      " 66|  6700  | 6.06122E-01 | 6.06122E-01 | 6.06122E-01 | 6.06122E-01 | 0.00000E+00 \n",
      " 67|  6800  | 6.06122E-01 | 6.06122E-01 | 6.06122E-01 | 6.06122E-01 | 0.00000E+00 \n",
      " 68|  6900  | 6.06122E-01 | 6.06122E-01 | 6.06122E-01 | 6.06122E-01 | 0.00000E+00 \n",
      " 69|  7000  | 6.06122E-01 | 6.06122E-01 | 6.06122E-01 | 6.06122E-01 | 0.00000E+00 \n",
      " 70|  7100  | 6.06122E-01 | 6.06122E-01 | 6.06122E-01 | 6.06122E-01 | 0.00000E+00 \n",
      " 71|  7200  | 6.06122E-01 | 6.06122E-01 | 6.06122E-01 | 6.06122E-01 | 0.00000E+00 \n",
      " 72|  7300  | 6.06122E-01 | 6.06122E-01 | 6.06122E-01 | 6.06122E-01 | 0.00000E+00 \n",
      " 73|  7400  | 6.06122E-01 | 6.06122E-01 | 6.06122E-01 | 6.06122E-01 | 0.00000E+00 \n",
      " 74|  7500  | 6.06122E-01 | 6.06122E-01 | 6.06122E-01 | 6.06122E-01 | 0.00000E+00 \n",
      " 75|  7600  | 6.06122E-01 | 6.06122E-01 | 6.06122E-01 | 6.06122E-01 | 0.00000E+00 \n",
      " 76|  7700  | 6.06122E-01 | 6.06122E-01 | 6.06122E-01 | 6.06122E-01 | 0.00000E+00 \n",
      " 77|  7800  | 6.06122E-01 | 6.06122E-01 | 6.06122E-01 | 6.06122E-01 | 0.00000E+00 \n",
      " 78|  7900  | 6.06122E-01 | 6.06122E-01 | 6.06122E-01 | 6.06122E-01 | 0.00000E+00 \n",
      " 79|  8000  | 6.06122E-01 | 6.06122E-01 | 6.06122E-01 | 6.06122E-01 | 0.00000E+00 \n",
      " 80|  8100  | 6.06122E-01 | 6.06122E-01 | 6.06122E-01 | 6.06122E-01 | 0.00000E+00 \n",
      " 81|  8200  | 6.06122E-01 | 6.06122E-01 | 6.06122E-01 | 6.06122E-01 | 0.00000E+00 \n",
      " 82|  8300  | 6.06122E-01 | 6.06122E-01 | 6.06122E-01 | 6.06122E-01 | 0.00000E+00 \n",
      " 83|  8400  | 6.06122E-01 | 6.06122E-01 | 6.06122E-01 | 6.06122E-01 | 0.00000E+00 \n",
      " 84|  8500  | 6.06122E-01 | 6.06122E-01 | 6.06122E-01 | 6.06122E-01 | 0.00000E+00 \n",
      " 85|  8600  | 6.06122E-01 | 6.06122E-01 | 6.06122E-01 | 6.06122E-01 | 0.00000E+00 \n",
      " 86|  8700  | 6.06122E-01 | 6.06122E-01 | 6.06122E-01 | 6.06122E-01 | 0.00000E+00 \n",
      " 87|  8800  | 6.06122E-01 | 6.06122E-01 | 6.06122E-01 | 6.06122E-01 | 0.00000E+00 \n",
      " 88|  8900  | 6.06122E-01 | 6.06122E-01 | 6.06122E-01 | 6.06122E-01 | 0.00000E+00 \n",
      " 89|  9000  | 6.06122E-01 | 6.06122E-01 | 6.06122E-01 | 6.06122E-01 | 0.00000E+00 \n",
      " 90|  9100  | 6.06122E-01 | 6.06122E-01 | 6.06122E-01 | 6.06122E-01 | 0.00000E+00 \n",
      " 91|  9200  | 6.06122E-01 | 6.06122E-01 | 6.06122E-01 | 6.06122E-01 | 0.00000E+00 \n",
      " 92|  9300  | 6.06122E-01 | 6.06122E-01 | 6.06122E-01 | 6.06122E-01 | 0.00000E+00 \n",
      " 93|  9400  | 6.06122E-01 | 6.06122E-01 | 6.06122E-01 | 6.06122E-01 | 0.00000E+00 \n",
      " 94|  9500  | 6.06122E-01 | 6.06122E-01 | 6.06122E-01 | 6.06122E-01 | 0.00000E+00 \n",
      " 95|  9600  | 6.06122E-01 | 6.06122E-01 | 6.06122E-01 | 6.06122E-01 | 0.00000E+00 \n",
      " 96|  9700  | 6.06122E-01 | 6.06122E-01 | 6.06122E-01 | 6.06122E-01 | 0.00000E+00 \n",
      " 97|  9800  | 6.06122E-01 | 6.06122E-01 | 6.06122E-01 | 6.06122E-01 | 0.00000E+00 \n",
      " 98|  9900  | 6.06122E-01 | 6.06122E-01 | 6.06122E-01 | 6.06122E-01 | 0.00000E+00 \n",
      " 99| 10000  | 6.06122E-01 | 6.06122E-01 | 6.06122E-01 | 6.06122E-01 | 0.00000E+00 \n",
      "100| 10100  | 6.06122E-01 | 6.06122E-01 | 6.06122E-01 | 6.06122E-01 | 0.00000E+00 \n",
      "101| 10200  | 6.06122E-01 | 6.06122E-01 | 6.06122E-01 | 6.06122E-01 | 0.00000E+00 \n",
      "102| 10300  | 6.06122E-01 | 6.06122E-01 | 6.06122E-01 | 6.06122E-01 | 0.00000E+00 \n"
     ]
    },
    {
     "name": "stdout",
     "output_type": "stream",
     "text": [
      "103| 10400  | 6.06122E-01 | 6.06122E-01 | 6.06122E-01 | 6.06122E-01 | 0.00000E+00 \n",
      "104| 10500  | 6.06122E-01 | 6.06122E-01 | 6.06122E-01 | 6.06122E-01 | 0.00000E+00 \n",
      "105| 10600  | 6.06122E-01 | 6.06122E-01 | 6.06122E-01 | 6.06122E-01 | 0.00000E+00 \n",
      "106| 10700  | 6.06122E-01 | 6.06122E-01 | 6.06122E-01 | 6.06122E-01 | 0.00000E+00 \n",
      "107| 10800  | 6.06122E-01 | 6.06122E-01 | 6.06122E-01 | 6.06122E-01 | 0.00000E+00 \n",
      "108| 10900  | 6.06122E-01 | 6.06122E-01 | 6.06122E-01 | 6.06122E-01 | 0.00000E+00 \n",
      "109| 11000  | 6.06122E-01 | 6.06122E-01 | 6.06122E-01 | 6.06122E-01 | 0.00000E+00 \n",
      "110| 11100  | 6.06122E-01 | 6.06122E-01 | 6.06122E-01 | 6.06122E-01 | 0.00000E+00 \n",
      "111| 11200  | 6.06122E-01 | 6.06122E-01 | 6.06122E-01 | 6.06122E-01 | 0.00000E+00 \n",
      "112| 11300  | 6.06122E-01 | 6.06122E-01 | 6.06122E-01 | 6.06122E-01 | 0.00000E+00 \n",
      "113| 11400  | 6.06122E-01 | 6.06122E-01 | 6.06122E-01 | 6.06122E-01 | 0.00000E+00 \n",
      "114| 11500  | 6.06122E-01 | 6.06122E-01 | 6.06122E-01 | 6.06122E-01 | 0.00000E+00 \n",
      "115| 11600  | 6.06122E-01 | 6.06122E-01 | 6.06122E-01 | 6.06122E-01 | 0.00000E+00 \n",
      "116| 11700  | 6.06122E-01 | 6.06122E-01 | 6.06122E-01 | 6.06122E-01 | 0.00000E+00 \n"
     ]
    },
    {
     "data": {
      "image/png": "[encoded data removed]",
      "text/plain": [
       "<Figure size 432x288 with 1 Axes>"
      ]
     },
     "metadata": {
      "needs_background": "light"
     },
     "output_type": "display_data"
    },
    {
     "name": "stdout",
     "output_type": "stream",
     "text": [
      "Execution time: 146.97215390205383 s\n",
      "Evaluation number: 11700\n",
      "The best objective value is: 0.6061224489795919\n",
      "The best variables are: \n",
      "671.5663682417944\t65.31311701703817\t3.58840006031096\t5.531444502994418\t4.388261616230011\t4.0\t5.0\t0.0\t\n"
     ]
    }
   ],
   "source": [
    "# 定义目标函数（适应度函数）\n",
    "@ea.Problem.single\n",
    "def objective_func(cut_off_list):\n",
    "    cut_off_dict = OrderedDict()\n",
    "    for var, cut_off in zip(gs.var_dict, cut_off_list):\n",
    "        cut_off_dict[var] = cut_off\n",
    "    # 通过率和召回率\n",
    "    pass_rate, recall = gs.get_all_rule_pass_rate_and_recall(cut_off_dict)\n",
    "    CV = np.array([expected_pass_rate-pass_rate])\n",
    "    return recall, CV\n",
    "\n",
    "# 构建问题\n",
    "problem = ea.Problem(name='遗传算法寻找最优阈值',\n",
    "                     M=1,  # 目标维数\n",
    "                     maxormins=[-1],  # 目标最小最大化标记列表，1：最小化该目标；-1：最大化该目标\n",
    "                     Dim=len(gs.var_dict),  # 决策变量维数\n",
    "                     varTypes=[0] * len(gs.var_dict),  # 决策变量的类型列表，0：实数；1：整数\n",
    "                     lb=lb,  # 决策变量下界\n",
    "                     ub=ub,  # 决策变量上界\n",
    "                     evalVars=objective_func)\n",
    "# 构建算法\n",
    "algorithm = ea.soea_SEGA_templet(problem=problem,\n",
    "                                 population=ea.Population(Encoding='RI', NIND=100),\n",
    "                                 MAXGEN=1000,  # 最大进化代数。\n",
    "                                 logTras=1,  # 表示每隔多少代记录一次日志信息，0表示不记录。\n",
    "                                 trappedValue=1e-6,  # 单目标优化陷入停滞的判断阈值。\n",
    "                                 maxTrappedCount=100)  # 进化停滞计数器最大上限值。\n",
    "# 求解\n",
    "res = ea.optimize(algorithm, seed=1, verbose=True, drawing=1, outputMsg=True, drawLog=False, saveFlag=True,\n",
    "                  dirName='result')"
   ]
  },
  {
   "cell_type": "code",
   "execution_count": 5,
   "metadata": {},
   "outputs": [
    {
     "name": "stdout",
     "output_type": "stream",
     "text": [
      "OrderedDict([('CreditAmount', 671.5663682417944), ('Age', 65.31311701703817), ('AccountBalance', 3.58840006031096), ('Duration', 5.531444502994418), ('ValueSavings', 4.388261616230011), ('PaymentStatusofPreviousCredit', 4.0), ('Lengthofcurrentemployment', 5.0), ('Purpose', 0.0)])\n"
     ]
    }
   ],
   "source": [
    "# 得到最优阈值\n",
    "ga_cut_off_list = res['Vars'][0]\n",
    "ga_cut_off_dict = OrderedDict()\n",
    "\n",
    "for var, cut_off in zip(gs.var_dict, ga_cut_off_list):\n",
    "    ga_cut_off_dict[var] = cut_off\n",
    "print(ga_cut_off_dict)"
   ]
  },
  {
   "cell_type": "markdown",
   "metadata": {},
   "source": [
    "# 4.规则效果评估"
   ]
  },
  {
   "cell_type": "code",
   "execution_count": 6,
   "metadata": {},
   "outputs": [],
   "source": [
    "train_all_rule_pass_rate_and_recall, train_rule_detail = gs.predict(df_train, ga_cut_off_dict)\n",
    "test_all_rule_pass_rate_and_recall, test_rule_detail = gs.predict(df_test, ga_cut_off_dict)"
   ]
  },
  {
   "cell_type": "code",
   "execution_count": 7,
   "metadata": {},
   "outputs": [
    {
     "name": "stdout",
     "output_type": "stream",
     "text": [
      "训练集整体通过率: 0.5和召回率: 0.6061224489795919\n"
     ]
    }
   ],
   "source": [
    "print('训练集整体通过率: {}和召回率: {}'.format(*train_all_rule_pass_rate_and_recall))"
   ]
  },
  {
   "cell_type": "code",
   "execution_count": 8,
   "metadata": {},
   "outputs": [
    {
     "data": {
      "text/html": [
       "<div>\n",
       "<style scoped>\n",
       "    .dataframe tbody tr th:only-of-type {\n",
       "        vertical-align: middle;\n",
       "    }\n",
       "\n",
       "    .dataframe tbody tr th {\n",
       "        vertical-align: top;\n",
       "    }\n",
       "\n",
       "    .dataframe thead th {\n",
       "        text-align: right;\n",
       "    }\n",
       "</style>\n",
       "<table border=\"1\" class=\"dataframe\">\n",
       "  <thead>\n",
       "    <tr style=\"text-align: right;\">\n",
       "      <th></th>\n",
       "      <th>变量名称</th>\n",
       "      <th>规则名称</th>\n",
       "      <th>单条规则通过率</th>\n",
       "      <th>单条规则召回率</th>\n",
       "      <th>累计通过率</th>\n",
       "      <th>累计召回率</th>\n",
       "    </tr>\n",
       "  </thead>\n",
       "  <tbody>\n",
       "    <tr>\n",
       "      <th>0</th>\n",
       "      <td>CreditAmount</td>\n",
       "      <td>CreditAmount &lt; 671.5663682417944</td>\n",
       "      <td>0.961429</td>\n",
       "      <td>0.042857</td>\n",
       "      <td>0.961429</td>\n",
       "      <td>0.042857</td>\n",
       "    </tr>\n",
       "    <tr>\n",
       "      <th>1</th>\n",
       "      <td>Age</td>\n",
       "      <td>Age &gt; 65.31311701703817</td>\n",
       "      <td>0.981429</td>\n",
       "      <td>0.018367</td>\n",
       "      <td>0.942857</td>\n",
       "      <td>0.061224</td>\n",
       "    </tr>\n",
       "    <tr>\n",
       "      <th>2</th>\n",
       "      <td>AccountBalance</td>\n",
       "      <td>AccountBalance &gt; 3.58840006031096</td>\n",
       "      <td>0.631429</td>\n",
       "      <td>0.471429</td>\n",
       "      <td>0.585714</td>\n",
       "      <td>0.520408</td>\n",
       "    </tr>\n",
       "    <tr>\n",
       "      <th>3</th>\n",
       "      <td>Duration</td>\n",
       "      <td>Duration &lt; 5.531444502994418</td>\n",
       "      <td>0.992857</td>\n",
       "      <td>0.010204</td>\n",
       "      <td>0.584286</td>\n",
       "      <td>0.522449</td>\n",
       "    </tr>\n",
       "    <tr>\n",
       "      <th>4</th>\n",
       "      <td>ValueSavings</td>\n",
       "      <td>ValueSavings &gt; 4.388261616230011</td>\n",
       "      <td>0.820000</td>\n",
       "      <td>0.206122</td>\n",
       "      <td>0.500000</td>\n",
       "      <td>0.606122</td>\n",
       "    </tr>\n",
       "    <tr>\n",
       "      <th>5</th>\n",
       "      <td>PaymentStatusofPreviousCredit</td>\n",
       "      <td>PaymentStatusofPreviousCredit &gt; 4.0</td>\n",
       "      <td>1.000000</td>\n",
       "      <td>0.000000</td>\n",
       "      <td>0.500000</td>\n",
       "      <td>0.606122</td>\n",
       "    </tr>\n",
       "    <tr>\n",
       "      <th>6</th>\n",
       "      <td>Lengthofcurrentemployment</td>\n",
       "      <td>Lengthofcurrentemployment &gt; 5.0</td>\n",
       "      <td>1.000000</td>\n",
       "      <td>0.000000</td>\n",
       "      <td>0.500000</td>\n",
       "      <td>0.606122</td>\n",
       "    </tr>\n",
       "    <tr>\n",
       "      <th>7</th>\n",
       "      <td>Purpose</td>\n",
       "      <td>Purpose &lt; 0.0</td>\n",
       "      <td>1.000000</td>\n",
       "      <td>0.000000</td>\n",
       "      <td>0.500000</td>\n",
       "      <td>0.606122</td>\n",
       "    </tr>\n",
       "  </tbody>\n",
       "</table>\n",
       "</div>"
      ],
      "text/plain": [
       "                            变量名称                                 规则名称  \\\n",
       "0                   CreditAmount     CreditAmount < 671.5663682417944   \n",
       "1                            Age              Age > 65.31311701703817   \n",
       "2                 AccountBalance    AccountBalance > 3.58840006031096   \n",
       "3                       Duration         Duration < 5.531444502994418   \n",
       "4                   ValueSavings     ValueSavings > 4.388261616230011   \n",
       "5  PaymentStatusofPreviousCredit  PaymentStatusofPreviousCredit > 4.0   \n",
       "6      Lengthofcurrentemployment      Lengthofcurrentemployment > 5.0   \n",
       "7                        Purpose                        Purpose < 0.0   \n",
       "\n",
       "    单条规则通过率   单条规则召回率     累计通过率     累计召回率  \n",
       "0  0.961429  0.042857  0.961429  0.042857  \n",
       "1  0.981429  0.018367  0.942857  0.061224  \n",
       "2  0.631429  0.471429  0.585714  0.520408  \n",
       "3  0.992857  0.010204  0.584286  0.522449  \n",
       "4  0.820000  0.206122  0.500000  0.606122  \n",
       "5  1.000000  0.000000  0.500000  0.606122  \n",
       "6  1.000000  0.000000  0.500000  0.606122  \n",
       "7  1.000000  0.000000  0.500000  0.606122  "
      ]
     },
     "execution_count": 8,
     "metadata": {},
     "output_type": "execute_result"
    }
   ],
   "source": [
    "train_rule_detail"
   ]
  },
  {
   "cell_type": "code",
   "execution_count": 9,
   "metadata": {},
   "outputs": [
    {
     "name": "stdout",
     "output_type": "stream",
     "text": [
      "测试集整体通过率: 0.44666666666666666和召回率: 0.6666666666666666\n"
     ]
    }
   ],
   "source": [
    "print('测试集整体通过率: {}和召回率: {}'.format(*test_all_rule_pass_rate_and_recall))"
   ]
  },
  {
   "cell_type": "code",
   "execution_count": 10,
   "metadata": {},
   "outputs": [
    {
     "data": {
      "text/html": [
       "<div>\n",
       "<style scoped>\n",
       "    .dataframe tbody tr th:only-of-type {\n",
       "        vertical-align: middle;\n",
       "    }\n",
       "\n",
       "    .dataframe tbody tr th {\n",
       "        vertical-align: top;\n",
       "    }\n",
       "\n",
       "    .dataframe thead th {\n",
       "        text-align: right;\n",
       "    }\n",
       "</style>\n",
       "<table border=\"1\" class=\"dataframe\">\n",
       "  <thead>\n",
       "    <tr style=\"text-align: right;\">\n",
       "      <th></th>\n",
       "      <th>变量名称</th>\n",
       "      <th>规则名称</th>\n",
       "      <th>单条规则通过率</th>\n",
       "      <th>单条规则召回率</th>\n",
       "      <th>累计通过率</th>\n",
       "      <th>累计召回率</th>\n",
       "    </tr>\n",
       "  </thead>\n",
       "  <tbody>\n",
       "    <tr>\n",
       "      <th>0</th>\n",
       "      <td>CreditAmount</td>\n",
       "      <td>CreditAmount &lt; 671.5663682417944</td>\n",
       "      <td>0.966667</td>\n",
       "      <td>0.042857</td>\n",
       "      <td>0.966667</td>\n",
       "      <td>0.042857</td>\n",
       "    </tr>\n",
       "    <tr>\n",
       "      <th>1</th>\n",
       "      <td>Age</td>\n",
       "      <td>Age &gt; 65.31311701703817</td>\n",
       "      <td>0.983333</td>\n",
       "      <td>0.019048</td>\n",
       "      <td>0.950000</td>\n",
       "      <td>0.061905</td>\n",
       "    </tr>\n",
       "    <tr>\n",
       "      <th>2</th>\n",
       "      <td>AccountBalance</td>\n",
       "      <td>AccountBalance &gt; 3.58840006031096</td>\n",
       "      <td>0.546667</td>\n",
       "      <td>0.557143</td>\n",
       "      <td>0.516667</td>\n",
       "      <td>0.590476</td>\n",
       "    </tr>\n",
       "    <tr>\n",
       "      <th>3</th>\n",
       "      <td>Duration</td>\n",
       "      <td>Duration &lt; 5.531444502994418</td>\n",
       "      <td>0.993333</td>\n",
       "      <td>0.009524</td>\n",
       "      <td>0.516667</td>\n",
       "      <td>0.590476</td>\n",
       "    </tr>\n",
       "    <tr>\n",
       "      <th>4</th>\n",
       "      <td>ValueSavings</td>\n",
       "      <td>ValueSavings &gt; 4.388261616230011</td>\n",
       "      <td>0.810000</td>\n",
       "      <td>0.238095</td>\n",
       "      <td>0.446667</td>\n",
       "      <td>0.666667</td>\n",
       "    </tr>\n",
       "    <tr>\n",
       "      <th>5</th>\n",
       "      <td>PaymentStatusofPreviousCredit</td>\n",
       "      <td>PaymentStatusofPreviousCredit &gt; 4.0</td>\n",
       "      <td>1.000000</td>\n",
       "      <td>0.000000</td>\n",
       "      <td>0.446667</td>\n",
       "      <td>0.666667</td>\n",
       "    </tr>\n",
       "    <tr>\n",
       "      <th>6</th>\n",
       "      <td>Lengthofcurrentemployment</td>\n",
       "      <td>Lengthofcurrentemployment &gt; 5.0</td>\n",
       "      <td>1.000000</td>\n",
       "      <td>0.000000</td>\n",
       "      <td>0.446667</td>\n",
       "      <td>0.666667</td>\n",
       "    </tr>\n",
       "    <tr>\n",
       "      <th>7</th>\n",
       "      <td>Purpose</td>\n",
       "      <td>Purpose &lt; 0.0</td>\n",
       "      <td>1.000000</td>\n",
       "      <td>0.000000</td>\n",
       "      <td>0.446667</td>\n",
       "      <td>0.666667</td>\n",
       "    </tr>\n",
       "  </tbody>\n",
       "</table>\n",
       "</div>"
      ],
      "text/plain": [
       "                            变量名称                                 规则名称  \\\n",
       "0                   CreditAmount     CreditAmount < 671.5663682417944   \n",
       "1                            Age              Age > 65.31311701703817   \n",
       "2                 AccountBalance    AccountBalance > 3.58840006031096   \n",
       "3                       Duration         Duration < 5.531444502994418   \n",
       "4                   ValueSavings     ValueSavings > 4.388261616230011   \n",
       "5  PaymentStatusofPreviousCredit  PaymentStatusofPreviousCredit > 4.0   \n",
       "6      Lengthofcurrentemployment      Lengthofcurrentemployment > 5.0   \n",
       "7                        Purpose                        Purpose < 0.0   \n",
       "\n",
       "    单条规则通过率   单条规则召回率     累计通过率     累计召回率  \n",
       "0  0.966667  0.042857  0.966667  0.042857  \n",
       "1  0.983333  0.019048  0.950000  0.061905  \n",
       "2  0.546667  0.557143  0.516667  0.590476  \n",
       "3  0.993333  0.009524  0.516667  0.590476  \n",
       "4  0.810000  0.238095  0.446667  0.666667  \n",
       "5  1.000000  0.000000  0.446667  0.666667  \n",
       "6  1.000000  0.000000  0.446667  0.666667  \n",
       "7  1.000000  0.000000  0.446667  0.666667  "
      ]
     },
     "execution_count": 10,
     "metadata": {},
     "output_type": "execute_result"
    }
   ],
   "source": [
    "test_rule_detail"
   ]
  },
  {
   "cell_type": "code",
   "execution_count": null,
   "metadata": {},
   "outputs": [],
   "source": []
  }
 ],
 "metadata": {
  "kernelspec": {
   "display_name": "Python 3",
   "language": "python",
   "name": "python3"
  },
  "language_info": {
   "codemirror_mode": {
    "name": "ipython",
    "version": 3
   },
   "file_extension": ".py",
   "mimetype": "text/x-python",
   "name": "python",
   "nbconvert_exporter": "python",
   "pygments_lexer": "ipython3",
   "version": "3.6.8"
  }
 },
 "nbformat": 4,
 "nbformat_minor": 4
}
